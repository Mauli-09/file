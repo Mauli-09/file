{
 "cells": [
  {
   "cell_type": "markdown",
   "id": "e428469e-f25f-42b6-83dd-5a204ef6ffda",
   "metadata": {},
   "source": [
    "### __Implement a hyperparameter optimization strategy (grid search) for a neural network model.__ "
   ]
  },
  {
   "cell_type": "code",
   "execution_count": 6,
   "id": "799e67dd-aff4-427e-898b-d975a52c90c7",
   "metadata": {},
   "outputs": [],
   "source": [
    "import numpy as np\n",
    "import keras_tuner as kt\n",
    "from tensorflow.keras.models import Sequential\n",
    "from tensorflow.keras.layers import Dense,Input\n",
    "from tensorflow.keras.optimizers import SGD\n",
    "from sklearn.model_selection import train_test_split\n",
    "from sklearn.preprocessing import LabelEncoder\n",
    "import seaborn as sns\n",
    "import tensorflow as tf"
   ]
  },
  {
   "cell_type": "code",
   "execution_count": 7,
   "id": "a4aa1ee2-e1e0-4f77-a2a8-59e90b942076",
   "metadata": {},
   "outputs": [],
   "source": [
    "df = sns.load_dataset('iris')\n",
    "df.head()\n",
    "\n",
    "x = df.drop(columns=['sepal_length'])\n",
    "y = df['sepal_length']\n",
    "\n",
    "x_train, x_test, y_train, y_test = train_test_split(x, y, test_size=0.2, random_state=42)\n",
    "\n",
    "le = LabelEncoder()\n",
    "x_train['species'] = le.fit_transform(x_train['species'])\n",
    "x_test['species']= le.transform(x_test['species'])"
   ]
  },
  {
   "cell_type": "code",
   "execution_count": 9,
   "id": "e3debb5d-6ea6-4f9e-b271-78e237e5b57d",
   "metadata": {},
   "outputs": [],
   "source": [
    "def test_model(hp):\n",
    "    model=Sequential()\n",
    "    model.add(Input(shape=(x_train.shape[1],)))\n",
    "    model.add(Dense(hp.Int('unit1',min_value=32,max_value=128,step=32),activation=hp.Choice('activation1',['relu','tanh','sigmoid'])))\n",
    "    model.add(Dense(hp.Int('unit2',min_value=32,max_value=128,step=32),activation=hp.Choice('activation2',['relu','tanh','sigmoid'])))\n",
    "    model.add(Dense(1))\n",
    "\n",
    "    model.compile(optimizer=SGD(hp.Choice('optimize',[0.00001,0.0001,0.001]),momentum=hp.Choice('momentum',[0.0,0.5,0.9])),loss='mean_squared_error',metrics=['mae'])\n",
    "\n",
    "    return model\n",
    "    "
   ]
  },
  {
   "cell_type": "code",
   "execution_count": 10,
   "id": "058d1749-8899-4f39-bc9b-471bb282d087",
   "metadata": {},
   "outputs": [],
   "source": [
    "tuner = kt.GridSearch(\n",
    "    test_model,\n",
    "    objective='val_mae',  \n",
    "    max_trials=10,\n",
    "    executions_per_trial=1, \n",
    "    directory='test', \n",
    "    project_name='iris_reg2' \n",
    ")"
   ]
  },
  {
   "cell_type": "code",
   "execution_count": 11,
   "id": "2484e073-f6ef-4231-b98f-6c08bae031fc",
   "metadata": {},
   "outputs": [
    {
     "name": "stdout",
     "output_type": "stream",
     "text": [
      "Trial 10 Complete [00h 00m 04s]\n",
      "val_mae: 6.4243011474609375\n",
      "\n",
      "Best val_mae So Far: 0.35166576504707336\n",
      "Total elapsed time: 00h 00m 42s\n",
      "Epoch 1/10\n",
      "\u001b[1m4/4\u001b[0m \u001b[32m━━━━━━━━━━━━━━━━━━━━\u001b[0m\u001b[37m\u001b[0m \u001b[1m1s\u001b[0m 99ms/step - loss: 31.3742 - mae: 5.4678 - val_loss: 7.2666 - val_mae: 2.6802\n",
      "Epoch 2/10\n",
      "\u001b[1m4/4\u001b[0m \u001b[32m━━━━━━━━━━━━━━━━━━━━\u001b[0m\u001b[37m\u001b[0m \u001b[1m0s\u001b[0m 28ms/step - loss: 4.4621 - mae: 1.9042 - val_loss: 9.9625 - val_mae: 2.9042\n",
      "Epoch 3/10\n",
      "\u001b[1m4/4\u001b[0m \u001b[32m━━━━━━━━━━━━━━━━━━━━\u001b[0m\u001b[37m\u001b[0m \u001b[1m0s\u001b[0m 22ms/step - loss: 6.6890 - mae: 2.3028 - val_loss: 0.9676 - val_mae: 0.9494\n",
      "Epoch 4/10\n",
      "\u001b[1m4/4\u001b[0m \u001b[32m━━━━━━━━━━━━━━━━━━━━\u001b[0m\u001b[37m\u001b[0m \u001b[1m0s\u001b[0m 24ms/step - loss: 2.3243 - mae: 1.3798 - val_loss: 5.0933 - val_mae: 2.2096\n",
      "Epoch 5/10\n",
      "\u001b[1m4/4\u001b[0m \u001b[32m━━━━━━━━━━━━━━━━━━━━\u001b[0m\u001b[37m\u001b[0m \u001b[1m0s\u001b[0m 30ms/step - loss: 3.5358 - mae: 1.7468 - val_loss: 0.1069 - val_mae: 0.2750\n",
      "Epoch 6/10\n",
      "\u001b[1m4/4\u001b[0m \u001b[32m━━━━━━━━━━━━━━━━━━━━\u001b[0m\u001b[37m\u001b[0m \u001b[1m0s\u001b[0m 25ms/step - loss: 0.9595 - mae: 0.8098 - val_loss: 1.3452 - val_mae: 1.0892\n",
      "Epoch 7/10\n",
      "\u001b[1m4/4\u001b[0m \u001b[32m━━━━━━━━━━━━━━━━━━━━\u001b[0m\u001b[37m\u001b[0m \u001b[1m0s\u001b[0m 22ms/step - loss: 0.9223 - mae: 0.8278 - val_loss: 0.7835 - val_mae: 0.8287\n",
      "Epoch 8/10\n",
      "\u001b[1m4/4\u001b[0m \u001b[32m━━━━━━━━━━━━━━━━━━━━\u001b[0m\u001b[37m\u001b[0m \u001b[1m0s\u001b[0m 21ms/step - loss: 0.8829 - mae: 0.8355 - val_loss: 0.6688 - val_mae: 0.7681\n",
      "Epoch 9/10\n",
      "\u001b[1m4/4\u001b[0m \u001b[32m━━━━━━━━━━━━━━━━━━━━\u001b[0m\u001b[37m\u001b[0m \u001b[1m0s\u001b[0m 29ms/step - loss: 0.3888 - mae: 0.4979 - val_loss: 0.3545 - val_mae: 0.4801\n",
      "Epoch 10/10\n",
      "\u001b[1m4/4\u001b[0m \u001b[32m━━━━━━━━━━━━━━━━━━━━\u001b[0m\u001b[37m\u001b[0m \u001b[1m0s\u001b[0m 22ms/step - loss: 0.5195 - mae: 0.5992 - val_loss: 0.1214 - val_mae: 0.2976\n",
      "\u001b[1m1/1\u001b[0m \u001b[32m━━━━━━━━━━━━━━━━━━━━\u001b[0m\u001b[37m\u001b[0m \u001b[1m0s\u001b[0m 47ms/step - loss: 0.1214 - mae: 0.2976\n",
      "Test MAE: 0.29756098985671997\n"
     ]
    }
   ],
   "source": [
    "tuner.search(x_train, y_train, epochs=10, validation_data=(x_test, y_test))\n",
    "best_hp = tuner.get_best_hyperparameters(num_trials=1)[0]\n",
    "best_model = tuner.hypermodel.build(best_hp)\n",
    "best_model.fit(x_train, y_train, epochs=10, validation_data=(x_test, y_test))\n",
    "loss, mae = best_model.evaluate(x_test, y_test)\n",
    "print(f\"Test MAE: {mae}\")"
   ]
  },
  {
   "cell_type": "code",
   "execution_count": null,
   "id": "dddfd17d-159d-48ed-a640-a832aaabd006",
   "metadata": {},
   "outputs": [],
   "source": []
  }
 ],
 "metadata": {
  "kernelspec": {
   "display_name": "Python 3 (ipykernel)",
   "language": "python",
   "name": "python3"
  },
  "language_info": {
   "codemirror_mode": {
    "name": "ipython",
    "version": 3
   },
   "file_extension": ".py",
   "mimetype": "text/x-python",
   "name": "python",
   "nbconvert_exporter": "python",
   "pygments_lexer": "ipython3",
   "version": "3.11.7"
  }
 },
 "nbformat": 4,
 "nbformat_minor": 5
}
