{
 "cells": [
  {
   "cell_type": "markdown",
   "id": "5af5b93d-3509-4fc6-8632-04ca0757ef28",
   "metadata": {},
   "source": [
    "### __Optimize Hessian matrix (use any method)__"
   ]
  },
  {
   "cell_type": "code",
   "execution_count": 42,
   "id": "d6746ba0-64bd-4afd-9a40-2d4dcb0f9303",
   "metadata": {},
   "outputs": [],
   "source": [
    "import numpy as np\n",
    "import sympy as sp\n",
    "x, y = sp.symbols('x y')\n",
    "f = 2*x**2 + 3*y**2 + 33*x*y + 90 \n",
    "\n",
    "double_derivative_x = sp.diff(f, x, 2)\n",
    "double_derivative_y = sp.diff(f, y, 2)\n",
    "double_derivative_xy = sp.diff(f, x, y)\n",
    "\n",
    "hessian_matrix = sp.Matrix([[double_derivative_x, double_derivative_xy], \n",
    "                            [double_derivative_xy, double_derivative_y]])\n",
    "grad_x=sp.diff(f,x)\n",
    "grad_y=sp.diff(f,y)\n"
   ]
  },
  {
   "cell_type": "code",
   "execution_count": 43,
   "id": "58f5de7a-3687-425c-9833-190480f814a4",
   "metadata": {},
   "outputs": [],
   "source": [
    "grad_func = sp.lambdify((x, y), [grad_x, grad_y], 'numpy')\n",
    "hessian_func = sp.lambdify((x, y), hessian_matrix, 'numpy')"
   ]
  },
  {
   "cell_type": "code",
   "execution_count": 44,
   "id": "195584ce-98a1-43d0-9ae6-074f39f7e806",
   "metadata": {},
   "outputs": [
    {
     "name": "stdout",
     "output_type": "stream",
     "text": [
      "Optimal x: 0.0\n",
      "Optimal y: 1.5407439555097887e-33\n",
      "Optimal Objective Value: 90.0000000000000\n"
     ]
    }
   ],
   "source": [
    "x_k = np.array([1.0, 1.0])\n",
    "tol = 0.0000006\n",
    "max_iter = 100\n",
    "for i in range(max_iter):\n",
    "    grad = np.array(grad_func(*x_k), dtype=float)\n",
    "    H = np.array(hessian_func(*x_k), dtype=float)\n",
    "    \n",
    "    H_inv = np.linalg.inv(H)\n",
    "    \n",
    "    x_k = x_k - H_inv @ grad\n",
    "    \n",
    "    if np.linalg.norm(grad) < tol:\n",
    "        break\n",
    "\n",
    "optimal_x, optimal_y = x_k\n",
    "optimal_value = f.subs({x: optimal_x, y: optimal_y})\n",
    "\n",
    "print(\"Optimal x:\", optimal_x)\n",
    "print(\"Optimal y:\", optimal_y)\n",
    "print(\"Optimal Objective Value:\", optimal_value)"
   ]
  },
  {
   "cell_type": "code",
   "execution_count": null,
   "id": "5399c182-bda8-4ad2-b887-729b8a012db1",
   "metadata": {},
   "outputs": [],
   "source": []
  },
  {
   "cell_type": "code",
   "execution_count": null,
   "id": "74aa2fff-425c-4146-83d3-96192851aed2",
   "metadata": {},
   "outputs": [],
   "source": []
  },
  {
   "cell_type": "code",
   "execution_count": null,
   "id": "a34434ff-2113-48a6-87d5-0ddf4fbd4e1c",
   "metadata": {},
   "outputs": [],
   "source": []
  }
 ],
 "metadata": {
  "kernelspec": {
   "display_name": "Python 3 (ipykernel)",
   "language": "python",
   "name": "python3"
  },
  "language_info": {
   "codemirror_mode": {
    "name": "ipython",
    "version": 3
   },
   "file_extension": ".py",
   "mimetype": "text/x-python",
   "name": "python",
   "nbconvert_exporter": "python",
   "pygments_lexer": "ipython3",
   "version": "3.11.7"
  }
 },
 "nbformat": 4,
 "nbformat_minor": 5
}
