{
 "cells": [
  {
   "cell_type": "markdown",
   "id": "e9c93eb6-0119-4120-8c5a-768c38d7205b",
   "metadata": {},
   "source": [
    "### __Implement a hyperparameter optimization strategy (random search) for a neural network model.__"
   ]
  },
  {
   "cell_type": "code",
   "execution_count": 1,
   "id": "1138528a-8552-4e0b-b1e8-53fed11634e1",
   "metadata": {},
   "outputs": [],
   "source": [
    "import numpy as np\n",
    "import keras_tuner as kt\n",
    "from tensorflow.keras.models import Sequential\n",
    "from tensorflow.keras.layers import Dense,Input\n",
    "from tensorflow.keras.optimizers import SGD\n",
    "from sklearn.model_selection import train_test_split\n",
    "from sklearn.preprocessing import LabelEncoder\n",
    "import seaborn as sns\n",
    "import tensorflow as tf"
   ]
  },
  {
   "cell_type": "code",
   "execution_count": 2,
   "id": "299711e5-75ce-481b-974f-7170cf02c602",
   "metadata": {},
   "outputs": [],
   "source": [
    "df = sns.load_dataset('iris')\n",
    "df.head()\n",
    "\n",
    "x = df.drop(columns=['sepal_length'])\n",
    "y = df['sepal_length']\n",
    "\n",
    "x_train, x_test, y_train, y_test = train_test_split(x, y, test_size=0.2, random_state=42)\n",
    "\n",
    "le = LabelEncoder()\n",
    "x_train['species'] = le.fit_transform(x_train['species'])\n",
    "x_test['species']= le.transform(x_test['species'])"
   ]
  },
  {
   "cell_type": "code",
   "execution_count": 3,
   "id": "9611d96a-a46a-45ff-b9bc-282639575b9f",
   "metadata": {},
   "outputs": [],
   "source": [
    "def test_model(hp):\n",
    "    model=Sequential()\n",
    "    model.add(Input(shape=(x_train.shape[1],)))\n",
    "    model.add(Dense(hp.Int('unit1',min_value=32,max_value=128),activation=hp.Choice('activation1',['relu','tanh','sigmoid'])))\n",
    "    model.add(Dense(hp.Int('unit2',min_value=32,max_value=128),activation=hp.Choice('activation2',['relu','tanh','sigmoid'])))\n",
    "    model.add(Dense(1))\n",
    "\n",
    "    model.compile(optimizer=SGD(hp.Float('optimize',min_value=0.00001,max_value=0.001),momentum=hp.Float('momentum',min_value=0.0,max_value=0.9)),loss='mean_squared_error',metrics=['mae'])\n",
    "\n",
    "    return model\n",
    "    "
   ]
  },
  {
   "cell_type": "code",
   "execution_count": 5,
   "id": "50cf89ac-64d2-4810-a47d-9fc448fae4b3",
   "metadata": {},
   "outputs": [],
   "source": [
    "tuner = kt.RandomSearch(\n",
    "    test_model,\n",
    "    objective='val_mae',  \n",
    "    max_trials=10,\n",
    "    executions_per_trial=1, \n",
    "    directory='test', \n",
    "    project_name='iris_reg3' \n",
    ")"
   ]
  },
  {
   "cell_type": "code",
   "execution_count": 6,
   "id": "c9940387-e9f7-428b-bacb-9c7b7461125e",
   "metadata": {},
   "outputs": [
    {
     "name": "stdout",
     "output_type": "stream",
     "text": [
      "Trial 10 Complete [00h 00m 04s]\n",
      "val_mae: 0.7491304874420166\n",
      "\n",
      "Best val_mae So Far: 0.4718247652053833\n",
      "Total elapsed time: 00h 00m 47s\n",
      "Epoch 1/10\n",
      "\u001b[1m4/4\u001b[0m \u001b[32m━━━━━━━━━━━━━━━━━━━━\u001b[0m\u001b[37m\u001b[0m \u001b[1m1s\u001b[0m 109ms/step - loss: 45.0135 - mae: 6.6568 - val_loss: 38.9392 - val_mae: 6.2007\n",
      "Epoch 2/10\n",
      "\u001b[1m4/4\u001b[0m \u001b[32m━━━━━━━━━━━━━━━━━━━━\u001b[0m\u001b[37m\u001b[0m \u001b[1m0s\u001b[0m 23ms/step - loss: 34.3431 - mae: 5.8140 - val_loss: 25.1013 - val_mae: 4.9918\n",
      "Epoch 3/10\n",
      "\u001b[1m4/4\u001b[0m \u001b[32m━━━━━━━━━━━━━━━━━━━━\u001b[0m\u001b[37m\u001b[0m \u001b[1m0s\u001b[0m 22ms/step - loss: 21.4889 - mae: 4.6058 - val_loss: 14.6265 - val_mae: 3.8072\n",
      "Epoch 4/10\n",
      "\u001b[1m4/4\u001b[0m \u001b[32m━━━━━━━━━━━━━━━━━━━━\u001b[0m\u001b[37m\u001b[0m \u001b[1m0s\u001b[0m 21ms/step - loss: 12.2260 - mae: 3.4536 - val_loss: 7.3933 - val_mae: 2.6658\n",
      "Epoch 5/10\n",
      "\u001b[1m4/4\u001b[0m \u001b[32m━━━━━━━━━━━━━━━━━━━━\u001b[0m\u001b[37m\u001b[0m \u001b[1m0s\u001b[0m 24ms/step - loss: 6.2513 - mae: 2.3945 - val_loss: 3.1576 - val_mae: 1.5931\n",
      "Epoch 6/10\n",
      "\u001b[1m4/4\u001b[0m \u001b[32m━━━━━━━━━━━━━━━━━━━━\u001b[0m\u001b[37m\u001b[0m \u001b[1m0s\u001b[0m 22ms/step - loss: 2.5705 - mae: 1.3338 - val_loss: 1.5589 - val_mae: 0.9283\n",
      "Epoch 7/10\n",
      "\u001b[1m4/4\u001b[0m \u001b[32m━━━━━━━━━━━━━━━━━━━━\u001b[0m\u001b[37m\u001b[0m \u001b[1m0s\u001b[0m 35ms/step - loss: 1.3325 - mae: 0.9177 - val_loss: 1.3185 - val_mae: 0.9723\n",
      "Epoch 8/10\n",
      "\u001b[1m4/4\u001b[0m \u001b[32m━━━━━━━━━━━━━━━━━━━━\u001b[0m\u001b[37m\u001b[0m \u001b[1m0s\u001b[0m 23ms/step - loss: 1.2433 - mae: 0.9674 - val_loss: 1.3076 - val_mae: 0.9925\n",
      "Epoch 9/10\n",
      "\u001b[1m4/4\u001b[0m \u001b[32m━━━━━━━━━━━━━━━━━━━━\u001b[0m\u001b[37m\u001b[0m \u001b[1m0s\u001b[0m 25ms/step - loss: 1.3232 - mae: 1.0221 - val_loss: 1.2181 - val_mae: 0.9564\n",
      "Epoch 10/10\n",
      "\u001b[1m4/4\u001b[0m \u001b[32m━━━━━━━━━━━━━━━━━━━━\u001b[0m\u001b[37m\u001b[0m \u001b[1m0s\u001b[0m 24ms/step - loss: 1.1873 - mae: 0.9423 - val_loss: 1.1062 - val_mae: 0.9024\n",
      "\u001b[1m1/1\u001b[0m \u001b[32m━━━━━━━━━━━━━━━━━━━━\u001b[0m\u001b[37m\u001b[0m \u001b[1m0s\u001b[0m 48ms/step - loss: 1.1062 - mae: 0.9024\n",
      "Test MAE: 0.9024465680122375\n"
     ]
    }
   ],
   "source": [
    "tuner.search(x_train, y_train, epochs=10, validation_data=(x_test, y_test))\n",
    "best_hp = tuner.get_best_hyperparameters(num_trials=1)[0]\n",
    "best_model = tuner.hypermodel.build(best_hp)\n",
    "best_model.fit(x_train, y_train, epochs=10, validation_data=(x_test, y_test))\n",
    "loss, mae = best_model.evaluate(x_test, y_test)\n",
    "print(f\"Test MAE: {mae}\")"
   ]
  }
 ],
 "metadata": {
  "kernelspec": {
   "display_name": "Python 3 (ipykernel)",
   "language": "python",
   "name": "python3"
  },
  "language_info": {
   "codemirror_mode": {
    "name": "ipython",
    "version": 3
   },
   "file_extension": ".py",
   "mimetype": "text/x-python",
   "name": "python",
   "nbconvert_exporter": "python",
   "pygments_lexer": "ipython3",
   "version": "3.11.7"
  }
 },
 "nbformat": 4,
 "nbformat_minor": 5
}
