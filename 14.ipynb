{
 "cells": [
  {
   "cell_type": "markdown",
   "id": "b7f7a720-6ef0-4144-a997-f3215d251da1",
   "metadata": {},
   "source": [
    "### __Implement Hessian matrix (use nay method)__"
   ]
  },
  {
   "cell_type": "code",
   "execution_count": 12,
   "id": "1efa6ea5-1e72-42a7-b43d-dcc1fb5cc30e",
   "metadata": {},
   "outputs": [],
   "source": [
    "import numpy as np\n",
    "import sympy as sp"
   ]
  },
  {
   "cell_type": "code",
   "execution_count": 13,
   "id": "ee4935b3-dbf7-4695-88fd-71ac9f083c95",
   "metadata": {},
   "outputs": [],
   "source": [
    "x,y=sp.symbols('x y')\n",
    "f=2*x**2 + 3*y**2+9*x*y+24*x*y+90"
   ]
  },
  {
   "cell_type": "code",
   "execution_count": 14,
   "id": "a3a6a84e-98e5-43d7-a34c-960146953b1d",
   "metadata": {},
   "outputs": [],
   "source": [
    "double_derivative_x=sp.diff(f,x,2)\n",
    "double_derivative_y=sp.diff(f,y,2)\n",
    "double_derivative_xy=sp.diff(f,x,y)"
   ]
  },
  {
   "cell_type": "code",
   "execution_count": 15,
   "id": "3d7ec8e1-2555-40c9-9911-47e3635e040b",
   "metadata": {},
   "outputs": [
    {
     "data": {
      "text/latex": [
       "$\\displaystyle \\left[\\begin{matrix}4 & 33\\\\33 & 6\\end{matrix}\\right]$"
      ],
      "text/plain": [
       "Matrix([\n",
       "[ 4, 33],\n",
       "[33,  6]])"
      ]
     },
     "execution_count": 15,
     "metadata": {},
     "output_type": "execute_result"
    }
   ],
   "source": [
    "hessian_matrix=sp.Matrix([[double_derivative_x,double_derivative_xy],[double_derivative_xy,double_derivative_y]])\n",
    "hessian_matrix"
   ]
  },
  {
   "cell_type": "code",
   "execution_count": 16,
   "id": "b4066363-96d2-495c-872c-3f370f6664a5",
   "metadata": {},
   "outputs": [],
   "source": [
    "##Optional\n",
    "determinant=hessian_matrix.det()"
   ]
  },
  {
   "cell_type": "code",
   "execution_count": 17,
   "id": "5dfa417d-5cbb-4d0c-ab8c-0a47a8626866",
   "metadata": {},
   "outputs": [
    {
     "name": "stdout",
     "output_type": "stream",
     "text": [
      "Saddle Point\n"
     ]
    }
   ],
   "source": [
    "if determinant>0:\n",
    "    if hessian_matrix[0, 0]>0:\n",
    "        print('Local Minima')\n",
    "    else:\n",
    "        print('Local Maxima')\n",
    "else:\n",
    "    print('Saddle Point')"
   ]
  }
 ],
 "metadata": {
  "kernelspec": {
   "display_name": "Python 3 (ipykernel)",
   "language": "python",
   "name": "python3"
  },
  "language_info": {
   "codemirror_mode": {
    "name": "ipython",
    "version": 3
   },
   "file_extension": ".py",
   "mimetype": "text/x-python",
   "name": "python",
   "nbconvert_exporter": "python",
   "pygments_lexer": "ipython3",
   "version": "3.11.7"
  }
 },
 "nbformat": 4,
 "nbformat_minor": 5
}
