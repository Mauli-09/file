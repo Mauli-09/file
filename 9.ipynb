{
 "cells": [
  {
   "cell_type": "markdown",
   "id": "43bdeb34-b23d-413c-8fbc-3ba010c3ed0a",
   "metadata": {},
   "source": [
    "### __Build a Basic neural network from scratch using a high level library like Pytorch. Use appropriate dataset__"
   ]
  },
  {
   "cell_type": "code",
   "execution_count": 30,
   "id": "746381f9-be4b-4c97-adc6-deff4aed79d5",
   "metadata": {},
   "outputs": [],
   "source": [
    "import torch\n",
    "import torch.nn as nn\n",
    "import torch.optim as optim\n",
    "import matplotlib.pyplot as plt\n",
    "from tensorflow.keras.datasets import mnist"
   ]
  },
  {
   "cell_type": "code",
   "execution_count": 31,
   "id": "81db3b00-febf-48ab-b6f3-dde861cd6938",
   "metadata": {},
   "outputs": [],
   "source": [
    "(x_train,y_train),(x_test,y_test)=mnist.load_data()"
   ]
  },
  {
   "cell_type": "code",
   "execution_count": 32,
   "id": "1137271b-d463-4b94-be21-030c972a8ef2",
   "metadata": {},
   "outputs": [],
   "source": [
    "x_train=x_train/255.0\n",
    "x_test=x_test/255.0"
   ]
  },
  {
   "cell_type": "code",
   "execution_count": 33,
   "id": "ddd33420-7d91-473d-8f5b-460d7beebe38",
   "metadata": {},
   "outputs": [],
   "source": [
    "x_train=torch.Tensor(x_train).unsqueeze(1)\n",
    "x_test=torch.Tensor(x_test).unsqueeze(1)"
   ]
  },
  {
   "cell_type": "code",
   "execution_count": 34,
   "id": "3dd4a6cd-f1e2-4709-9d22-2bc1866669c4",
   "metadata": {},
   "outputs": [],
   "source": [
    "y_train=torch.Tensor(y_train).long()\n",
    "y_test=torch.Tensor(y_test).long()"
   ]
  },
  {
   "cell_type": "code",
   "execution_count": 35,
   "id": "a8f3fb44-104b-4f7c-a243-e967d1360d7c",
   "metadata": {},
   "outputs": [],
   "source": [
    "class SimpleNN(nn.Module):\n",
    "    def __init__(self):\n",
    "        super(SimpleNN,self).__init__()\n",
    "        self.fc1=nn.Linear(28*28,128)\n",
    "        self.fc2=nn.Linear(128,64)\n",
    "        self.fc3=nn.Linear(64,10)\n",
    "    def forward(self,x):\n",
    "        x=x.view(-1,28*28)\n",
    "        x=torch.relu(self.fc1(x))\n",
    "        x=torch.relu(self.fc2(x))\n",
    "        x=self.fc3(x)\n",
    "\n",
    "        return x\n",
    "\n",
    "model=SimpleNN()\n",
    "criterion=nn.CrossEntropyLoss()\n",
    "optimizer=optim.Adam(model.parameters(),lr=0.001)"
   ]
  },
  {
   "cell_type": "code",
   "execution_count": 39,
   "id": "5050d2b6-b9aa-45dd-a997-6ef7ca41df9e",
   "metadata": {},
   "outputs": [
    {
     "name": "stdout",
     "output_type": "stream",
     "text": [
      "1 loss: 1.2665939331054688 \n",
      "2 loss: 1.1966863870620728 \n",
      "3 loss: 1.1290485858917236 \n",
      "4 loss: 1.0643104314804077 \n",
      "5 loss: 1.003013253211975 \n",
      "6 loss: 0.9455412030220032 \n",
      "7 loss: 0.8920848369598389 \n",
      "8 loss: 0.8426545858383179 \n",
      "9 loss: 0.7971722483634949 \n",
      "10 loss: 0.7555156350135803 \n"
     ]
    }
   ],
   "source": [
    "epochs=10\n",
    "for epoch in range(epochs):\n",
    "    running_loss=0.0\n",
    "    optimizer.zero_grad()\n",
    "    outputs=model(x_train)\n",
    "    loss=criterion(outputs,y_train)\n",
    "    loss.backward()\n",
    "    optimizer.step()\n",
    "    running_loss += loss.item()\n",
    "    print(f'{epoch+1} loss: {running_loss} ')"
   ]
  },
  {
   "cell_type": "code",
   "execution_count": 40,
   "id": "5182ba2f-2e09-417b-ac8f-d595d9cdf45f",
   "metadata": {},
   "outputs": [
    {
     "name": "stdout",
     "output_type": "stream",
     "text": [
      "Accuracy of the model on the test set: 83.99%\n"
     ]
    }
   ],
   "source": [
    "correct = 0\n",
    "total = 0\n",
    "with torch.no_grad():\n",
    "    outputs = model(x_test)\n",
    "    _, predicted = torch.max(outputs.data, 1)\n",
    "    total += y_test.size(0)\n",
    "    correct += (predicted == y_test).sum().item()\n",
    "\n",
    "accuracy = 100 * correct / total\n",
    "print(f'Accuracy of the model on the test set: {accuracy:.2f}%')"
   ]
  },
  {
   "cell_type": "code",
   "execution_count": 42,
   "id": "3e4d29ec-af8e-4032-b58b-10630454e7a8",
   "metadata": {},
   "outputs": [
    {
     "data": {
      "image/png": "[encoded data removed]",
      "text/plain": [
       "<Figure size 640x480 with 1 Axes>"
      ]
     },
     "metadata": {},
     "output_type": "display_data"
    },
    {
     "name": "stdout",
     "output_type": "stream",
     "text": [
      "Predicted Label: 0\n"
     ]
    }
   ],
   "source": [
    "image = x_test[3].squeeze().numpy()\n",
    "plt.imshow(image)\n",
    "plt.show()\n",
    "image = image.reshape(1, 28*28)\n",
    "image = torch.Tensor(image)\n",
    "output = model(image)\n",
    "_, predicted_label = torch.max(output.data, 1)\n",
    "print(f\"Predicted Label: {predicted_label.item()}\")"
   ]
  },
  {
   "cell_type": "code",
   "execution_count": 49,
   "id": "00000b54-7bd0-4b87-8d7b-755802669c3b",
   "metadata": {},
   "outputs": [],
   "source": [
    "###Regression\n",
    "import torch\n",
    "import torch.nn as nn\n",
    "import torch.optim as optim\n",
    "import numpy as np\n",
    "import pandas as pd\n",
    "from sklearn.model_selection import train_test_split\n",
    "from sklearn.preprocessing import LabelEncoder\n",
    "import seaborn as sns\n",
    "from sklearn.metrics import r2_score\n",
    "import matplotlib.pyplot as plt"
   ]
  },
  {
   "cell_type": "code",
   "execution_count": 50,
   "id": "841eeb74-5964-4979-b050-5ace0a43c823",
   "metadata": {},
   "outputs": [],
   "source": [
    "df = sns.load_dataset('iris')\n",
    "df.head()\n",
    "\n",
    "x = df.drop(columns=['sepal_length'])\n",
    "y = df['sepal_length']\n",
    "\n",
    "x_train, x_test, y_train, y_test = train_test_split(x, y, test_size=0.2, random_state=42)\n",
    "\n",
    "le = LabelEncoder()\n",
    "x_train['species'] = le.fit_transform(x_train['species'])\n",
    "x_test['species'] = le.transform(x_test['species'])"
   ]
  },
  {
   "cell_type": "code",
   "execution_count": 51,
   "id": "86e6dd34-2d27-4178-8cd3-0020ef5f3243",
   "metadata": {},
   "outputs": [],
   "source": [
    "x_train_tensor = torch.tensor(x_train.values, dtype=torch.float32)\n",
    "x_test_tensor = torch.tensor(x_test.values, dtype=torch.float32)\n",
    "y_train_tensor = torch.tensor(y_train.values, dtype=torch.float32).view(-1, 1)\n",
    "y_test_tensor = torch.tensor(y_test.values, dtype=torch.float32).view(-1, 1)"
   ]
  },
  {
   "cell_type": "code",
   "execution_count": 52,
   "id": "908beb80-4395-467f-8d6e-87df5a05ba7d",
   "metadata": {},
   "outputs": [],
   "source": [
    "class RegressionModel(nn.Module):\n",
    "    def __init__(self):\n",
    "        super(RegressionModel, self).__init__()\n",
    "        self.fc1 = nn.Linear(x_train_tensor.shape[1], 64)\n",
    "        self.fc2 = nn.Linear(64, 32)\n",
    "        self.fc3 = nn.Linear(32, 1)\n",
    "    \n",
    "    def forward(self, x):\n",
    "        x = torch.relu(self.fc1(x))\n",
    "        x = torch.relu(self.fc2(x))\n",
    "        x = self.fc3(x)\n",
    "        return x\n",
    "\n",
    "model = RegressionModel()\n",
    "criterion = nn.MSELoss() \n",
    "optimizer = optim.Adam(model.parameters(), lr=0.1)"
   ]
  },
  {
   "cell_type": "code",
   "execution_count": 53,
   "id": "1225d153-8e72-4007-af02-3a4949140b50",
   "metadata": {},
   "outputs": [
    {
     "name": "stdout",
     "output_type": "stream",
     "text": [
      "Epoch [1/25], Loss: 34.1065\n",
      "Epoch [2/25], Loss: 164.3296\n",
      "Epoch [3/25], Loss: 21.0465\n",
      "Epoch [4/25], Loss: 34.9284\n",
      "Epoch [5/25], Loss: 32.1382\n",
      "Epoch [6/25], Loss: 29.4913\n",
      "Epoch [7/25], Loss: 27.6675\n",
      "Epoch [8/25], Loss: 25.1682\n",
      "Epoch [9/25], Loss: 21.5274\n",
      "Epoch [10/25], Loss: 15.3849\n",
      "Epoch [11/25], Loss: 5.9632\n",
      "Epoch [12/25], Loss: 0.4890\n",
      "Epoch [13/25], Loss: 13.4995\n",
      "Epoch [14/25], Loss: 6.7615\n",
      "Epoch [15/25], Loss: 0.2791\n",
      "Epoch [16/25], Loss: 2.7394\n",
      "Epoch [17/25], Loss: 5.0727\n",
      "Epoch [18/25], Loss: 4.8759\n",
      "Epoch [19/25], Loss: 2.9570\n",
      "Epoch [20/25], Loss: 1.0069\n",
      "Epoch [21/25], Loss: 0.7022\n",
      "Epoch [22/25], Loss: 2.0150\n",
      "Epoch [23/25], Loss: 2.6519\n",
      "Epoch [24/25], Loss: 1.5803\n",
      "Epoch [25/25], Loss: 0.4090\n"
     ]
    }
   ],
   "source": [
    "epochs = 25\n",
    "for epoch in range(epochs):\n",
    "    model.train()\n",
    "    predictions = model(x_train_tensor)\n",
    "    loss = criterion(predictions, y_train_tensor)\n",
    "    optimizer.zero_grad()\n",
    "    loss.backward()\n",
    "    optimizer.step()\n",
    "    print(f'Epoch [{epoch+1}/{epochs}], Loss: {loss.item():.4f}')"
   ]
  },
  {
   "cell_type": "code",
   "execution_count": 54,
   "id": "9b346104-fcf8-4754-8249-953a7c2a6320",
   "metadata": {},
   "outputs": [
    {
     "name": "stdout",
     "output_type": "stream",
     "text": [
      "Predicted Val: 6.0133795738220215, Actual Value: 6.099999904632568\n",
      "Predicted Val: 5.42240047454834, Actual Value: 5.699999809265137\n",
      "Predicted Val: 6.352846622467041, Actual Value: 7.699999809265137\n",
      "Predicted Val: 5.734066009521484, Actual Value: 6.0\n",
      "Predicted Val: 5.931520938873291, Actual Value: 6.800000190734863\n",
      "Predicted Val: 5.067465782165527, Actual Value: 5.400000095367432\n",
      "Predicted Val: 5.3601179122924805, Actual Value: 5.599999904632568\n",
      "Predicted Val: 5.541736125946045, Actual Value: 6.900000095367432\n",
      "Predicted Val: 5.433826923370361, Actual Value: 6.199999809265137\n",
      "Predicted Val: 5.514681339263916, Actual Value: 5.800000190734863\n",
      "Predicted Val: 5.792881488800049, Actual Value: 6.5\n",
      "Predicted Val: 5.047177791595459, Actual Value: 4.800000190734863\n",
      "Predicted Val: 5.1352410316467285, Actual Value: 5.5\n",
      "Predicted Val: 5.147045135498047, Actual Value: 4.900000095367432\n",
      "Predicted Val: 5.308448314666748, Actual Value: 5.099999904632568\n",
      "Predicted Val: 5.950165271759033, Actual Value: 6.300000190734863\n",
      "Predicted Val: 5.9670939445495605, Actual Value: 6.5\n",
      "Predicted Val: 5.498316764831543, Actual Value: 5.599999904632568\n",
      "Predicted Val: 5.830010414123535, Actual Value: 5.699999809265137\n",
      "Predicted Val: 5.767360210418701, Actual Value: 6.400000095367432\n",
      "Predicted Val: 5.177494525909424, Actual Value: 4.699999809265137\n",
      "Predicted Val: 5.731982707977295, Actual Value: 6.099999904632568\n",
      "Predicted Val: 5.124441623687744, Actual Value: 5.0\n",
      "Predicted Val: 5.836778163909912, Actual Value: 6.400000095367432\n",
      "Predicted Val: 6.790916442871094, Actual Value: 7.900000095367432\n",
      "Predicted Val: 5.555820941925049, Actual Value: 6.699999809265137\n",
      "Predicted Val: 6.030309677124023, Actual Value: 6.699999809265137\n",
      "Predicted Val: 6.040435314178467, Actual Value: 6.800000190734863\n",
      "Predicted Val: 4.908342361450195, Actual Value: 4.800000190734863\n",
      "Predicted Val: 5.134603500366211, Actual Value: 4.800000190734863\n"
     ]
    }
   ],
   "source": [
    "model.eval()\n",
    "with torch.no_grad():\n",
    "    test_predictions = model(x_test_tensor)\n",
    "    for pred, actual in zip(test_predictions, y_test_tensor):\n",
    "        print(f'Predicted Val: {pred.item()}, Actual Value: {actual.item()}')"
   ]
  },
  {
   "cell_type": "code",
   "execution_count": 55,
   "id": "4d11817d-19e6-43b3-8401-a7b28786ad4d",
   "metadata": {},
   "outputs": [
    {
     "name": "stdout",
     "output_type": "stream",
     "text": [
      "R-squared: 0.4484\n"
     ]
    }
   ],
   "source": [
    "r2 = r2_score(y_test_tensor.numpy(), test_predictions.numpy())\n",
    "print(f'R-squared: {r2:.4f}')"
   ]
  }
 ],
 "metadata": {
  "kernelspec": {
   "display_name": "Python 3 (ipykernel)",
   "language": "python",
   "name": "python3"
  },
  "language_info": {
   "codemirror_mode": {
    "name": "ipython",
    "version": 3
   },
   "file_extension": ".py",
   "mimetype": "text/x-python",
   "name": "python",
   "nbconvert_exporter": "python",
   "pygments_lexer": "ipython3",
   "version": "3.11.7"
  }
 },
 "nbformat": 4,
 "nbformat_minor": 5
}
